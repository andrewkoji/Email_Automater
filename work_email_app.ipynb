{
 "cells": [
  {
   "cell_type": "code",
   "execution_count": 2,
   "metadata": {
    "colab": {
     "base_uri": "https://localhost:8080/"
    },
    "id": "25HxQXq6XvIv",
    "outputId": "1eb4c084-ef40-4011-edd7-b43ad20ae703"
   },
   "outputs": [
    {
     "name": "stdout",
     "output_type": "stream",
     "text": [
      "Mounted at /content/drive\n"
     ]
    }
   ],
   "source": [
    "import pandas as pd\n",
    "from google.colab import drive\n",
    "drive.mount('/content/drive')"
   ]
  },
  {
   "cell_type": "code",
   "execution_count": 3,
   "metadata": {
    "id": "cgre0AQMpRCA"
   },
   "outputs": [],
   "source": [
    "import requests\n",
    "import smtplib"
   ]
  },
  {
   "cell_type": "code",
   "execution_count": 4,
   "metadata": {
    "colab": {
     "base_uri": "https://localhost:8080/"
    },
    "id": "B9pNj033v3U4",
    "outputId": "6e1ca804-6afc-4465-c01d-b77fc7993324"
   },
   "outputs": [
    {
     "data": {
      "text/plain": [
       "Index(['Email', 'Name', 'MPA', 'SIMILAR TRIANGLES 2 [5] (1x)',\n",
       "       'SIMILAR TRIANGLES 1 [5] (1x)', 'Proportions Worksheet (1x)',\n",
       "       'SIMPLIFY RADICALS [5] (1x)', 'Similarity Worksheet (1x)',\n",
       "       'SIMILAR RIGHT 1 (1x)', 'SIMILAR RIGHT 2 [5] (1x)',\n",
       "       'Answer Key to your poster (1x)', 'SIMILARITY REVIEW [10] (1x)',\n",
       "       'MP2 Quiz#1 (1x)', 'TRIG 2 [5] (1x)', 'TRIG 1 [5] (1x)',\n",
       "       'Trig Worksheet (1x)'],\n",
       "      dtype='object')"
      ]
     },
     "execution_count": 4,
     "metadata": {},
     "output_type": "execute_result"
    }
   ],
   "source": [
    "path = \"/content/drive/My Drive/Colab Notebooks/Grades/Geo Period 5 gradebook.xlsx\"\n",
    "df = pd.read_excel(path)\n",
    "df\n",
    "df.columns"
   ]
  },
  {
   "cell_type": "code",
   "execution_count": 5,
   "metadata": {
    "colab": {
     "base_uri": "https://localhost:8080/"
    },
    "id": "7ji3FL5blUmV",
    "outputId": "dd21028e-dc46-4fa6-a89d-0b8caa1ec4d6"
   },
   "outputs": [
    {
     "data": {
      "text/plain": [
       "(17, 18)"
      ]
     },
     "execution_count": 5,
     "metadata": {},
     "output_type": "execute_result"
    }
   ],
   "source": [
    "path = \"/content/drive/My Drive/Colab Notebooks/Grades/Geo Period 5 gradebook.xlsx\"\n",
    "df = pd.read_excel(path)\n",
    "df\n",
    "\n",
    "\n",
    "# function to clean column names\n",
    "def clean_table(filename):\n",
    "    columns = list(filename.columns)\n",
    "    new_columns = []\n",
    "    for column in columns:\n",
    "        if '(1x)' in column:\n",
    "            new_columns.append(column.replace('(1x)', ''))\n",
    "        elif 'Email' in column:\n",
    "            new_columns.append(column)\n",
    "        elif column.startswith('MPA'):\n",
    "            new_columns.append('Average')\n",
    "        elif 'Name' in column:\n",
    "            new_columns.append(column)\n",
    "        elif 'MPA' in column:\n",
    "            new_columns.append(column)\n",
    "    filename.columns = new_columns\n",
    "    return filename\n",
    "cleaned_table = clean_table(df)\n",
    "cleaned_table\n",
    "#Reshape Data\n",
    "df1 = pd.melt(cleaned_table, id_vars = ['Name','Email'])\n",
    "df1 = df1.fillna(0)\n",
    "# # # #Filter by zeroes to locate missing assignments\n",
    "df1 = df1[df1['value'] ==0]\n",
    "df1 = df1.sort_values('Name')\n",
    "df1 = df1[df1['variable'] != 'Average']\n",
    "df1 = df1[df1['variable'] != 'Unit 4 Quiz']\n",
    "\n",
    "# # df\n",
    "# #Concatenate all missing assignment titles\n",
    "df1 = df1.groupby('Name', as_index=False).agg({'Name' : 'first', 'variable' : (', '.join)})\n",
    "# df1\n",
    "class_grades = pd.merge(df, df1, on='Name', how='outer')\n",
    "class_grades['Subject'] = 'Geometry Update MP2'\n",
    "class_grades[\"variable\"].fillna(\"Nothing!\", inplace = True)\n",
    "class_grades['missing_assignments'] = class_grades['variable']\n",
    "\n",
    "class_grades = class_grades.drop(['variable'], axis = 1)\n",
    "\n",
    "class_grades\n",
    "\n",
    "\n"
   ]
  },
  {
   "cell_type": "code",
   "execution_count": null,
   "metadata": {
    "colab": {
     "base_uri": "https://localhost:8080/"
    },
    "id": "pMuWgNCnnYJ5",
    "outputId": "6dc549bb-9917-4fc3-8e80-1e746eee5d54"
   },
   "outputs": [
    {
     "data": {
      "text/plain": [
       "(235, b'2.7.0 Accepted')"
      ]
     },
     "execution_count": 15,
     "metadata": {},
     "output_type": "execute_result"
    }
   ],
   "source": [
    "your_name = \"My nme\"\n",
    "your_email = \"my email\"\n",
    "your_password = \"my password\"\n",
    "\n",
    "server = smtplib.SMTP_SSL('smtp.gmail.com', 465)\n",
    "server.ehlo()\n",
    "server.login(your_email, your_password)"
   ]
  },
  {
   "cell_type": "markdown",
   "metadata": {
    "id": "tKljre0PrsZ1"
   },
   "source": [
    "# Grade Email"
   ]
  },
  {
   "cell_type": "code",
   "execution_count": null,
   "metadata": {
    "colab": {
     "base_uri": "https://localhost:8080/"
    },
    "id": "8TeQZ-w7wfxo",
    "outputId": "713de2c4-215c-4488-98d5-10fd6f368651"
   },
   "outputs": [
    {
     "data": {
      "text/plain": [
       "Index(['Email', 'Name', 'Average', 'SIMILAR TRIANGLES 2 [5] ',\n",
       "       'SIMILAR TRIANGLES 1 [5] ', 'Proportions Worksheet ',\n",
       "       'SIMPLIFY RADICALS [5] ', 'Similarity Worksheet ', 'SIMILAR RIGHT 1 ',\n",
       "       'SIMILAR RIGHT 2 [5] ', 'Answer Key to your poster ',\n",
       "       'SIMILARITY REVIEW [10] ', 'MP1 Quiz ', 'TRIG 2 [5] ', 'TRIG 1 [5] ',\n",
       "       'Trig Worksheet ', 'Subject', 'missing_assignments'],\n",
       "      dtype='object')"
      ]
     },
     "execution_count": 17,
     "metadata": {},
     "output_type": "execute_result"
    }
   ],
   "source": [
    "class_grades.columns"
   ]
  },
  {
   "cell_type": "code",
   "execution_count": 2,
   "metadata": {
    "colab": {
     "base_uri": "https://localhost:8080/",
     "height": 512
    },
    "id": "oA3cd9PtpM62",
    "outputId": "5a7f64cd-2f12-40ba-c086-8353c3160ef3"
   },
   "outputs": [],
   "source": [
    "# from pandas._libs import missing\n",
    "# email_list = class_grades\n",
    "\n",
    "# for i, row in class_grades.iterrows():\n",
    "#   name = row['Name'].strip()\n",
    "#   missing_assignments = row['missing_assignments'].strip()\n",
    "#   email = row['Email'].strip()\n",
    "#   subject = row[\"Subject\"].strip()\n",
    "#   average = row[\"Average\"]\n",
    "#   quiz_score = row['MP2 Quiz #1 ']\n",
    "#   full_email = (\"From: {0} <{1}>\\n\"\n",
    "#                   \"To: {2} <{3}>\\n\"\n",
    "#                   \"Subject: {4}\\n\\n\"\n",
    "#                   \"Good Afternoon, this is an update on {3}'s performance in Geometry so far as of week 4 in marking period 2.\\n\\n\"\n",
    "#                   \"Your child's average is currently a(n) {5}.\\n\\n\"\n",
    "#                   \"Your child scored a(n) {7}% on the first quiz of this marking period.\\n\\n\"\n",
    "#                   \"Your child currently owes the following assignments:\\n\"\n",
    "#                   \"{6}\\n\\n\"\n",
    "#                   \"All homework and classwork assignments should be submitted by the end of week 5 of marking period 2 on December 17th. Late assignments are accepted for half credit.\\n\\n\"\n",
    "#                   \"Please reach out if you have any questions or concerns.\\n\\n\"\n",
    "#                   \"I was asked the question can I reply to this email from some parents. Yes you can! Feel free to respond here if you would like.\\n\\n\"\n",
    "#                   \"Sincerely,\\nMr. Levinton\\nGeometry Teacher\"\n",
    "#                       .format(your_name, your_email, email, name, subject, average, missing_assignments, quiz_score))\n",
    "#   try:\n",
    "#       server.sendmail(your_email, [email], full_email)\n",
    "#       print('Email to {} successfully sent!\\n\\n'.format(email))\n",
    "#   except:\n",
    "#       print('Email to {} could not be sent :( because {}\\n\\n'.format(email, str(email)))\n",
    "\n",
    "\n",
    "\n"
   ]
  },
  {
   "cell_type": "markdown",
   "metadata": {
    "id": "eB_7r1FurlNc"
   },
   "source": [
    "# Test Reminder Email"
   ]
  },
  {
   "cell_type": "code",
   "execution_count": 1,
   "metadata": {
    "colab": {
     "base_uri": "https://localhost:8080/"
    },
    "id": "aVlzbW9Vp2QC",
    "outputId": "0525b176-7063-4122-f041-1c7462bbc417"
   },
   "outputs": [],
   "source": [
    "# from pandas._libs import missing\n",
    "# email_list = class_grades\n",
    "\n",
    "# for i, row in class_grades.iterrows():\n",
    "#   name = row['Name'].strip()\n",
    "#   missing_assignments = row['missing_assignments'].strip()\n",
    "#   email = row['Email'].strip()\n",
    "#   subject = row[\"Subject\"].strip()\n",
    "#   average = row[\"Average\"]\n",
    "#   quiz_score = row['Quiz #2 MP1 ']\n",
    "#   full_email = (\"From: {0} <{1}>\\n\"\n",
    "#                   \"To: {2} <{3}>\\n\"\n",
    "#                   \"Subject: {4}\\n\\n\"\n",
    "#                   \"Good Afternoon. This is a notification to let you know that we have our first marking period 2 quiz THIS FRIDAY(12/1) The quiz is open notes.\\n\\n\"\n",
    "#                   \"How can the students prepare?\\n\\n\"\n",
    "#                   \"They can study with their notes or the deltamath review in google classroom. All notes are posted in google classroom as well.\\n\\n\"\n",
    "#                   \"Please reach out to me if you have any questions or concerns.\\n\\n\"\n",
    "#                   \"Thank you!\\n\\n\"\n",
    "#                   \"Sincerely,\\nMr. Levinton\\nGeometry Teacher\"\n",
    "#                       .format(your_name, your_email, email, name, subject, average, missing_assignments, quiz_score))\n",
    "#   try:\n",
    "#       server.sendmail(your_email, [email], full_email)\n",
    "#       print('Email to {} successfully sent!\\n\\n'.format(email))\n",
    "#   except:\n",
    "#       print('Email to {} could not be sent :( because {}\\n\\n'.format(email, str(email)))"
   ]
  },
  {
   "cell_type": "markdown",
   "metadata": {
    "id": "Bzu6z_JTr7vq"
   },
   "source": [
    "# Grades to pass course"
   ]
  },
  {
   "cell_type": "code",
   "execution_count": null,
   "metadata": {
    "colab": {
     "base_uri": "https://localhost:8080/"
    },
    "id": "i5rhitOMqh_l",
    "outputId": "92fc2f47-7c93-4ddb-9378-6015765862fc"
   },
   "outputs": [
    {
     "name": "stdout",
     "output_type": "stream",
     "text": [
      "Email to jennifer83s@yahoo.com successfully sent!\n",
      "\n",
      "\n",
      "Email to Kristi.gohs@me.com successfully sent!\n",
      "\n",
      "\n",
      "Email to montgomeryL13@yahoo.com successfully sent!\n",
      "\n",
      "\n",
      "Email to kelicia0907@gmail.com successfully sent!\n",
      "\n",
      "\n",
      "Email to hpseeber@yahoo.com successfully sent!\n",
      "\n",
      "\n",
      "Email to josephthomas0316@yahoo.com successfully sent!\n",
      "\n",
      "\n",
      "Email to Freddysj-51@yahoo.com successfully sent!\n",
      "\n",
      "\n",
      "Email to bigcitythomas@gmail.com successfully sent!\n",
      "\n",
      "\n",
      "Email to gzollinger@gmail.com successfully sent!\n",
      "\n",
      "\n"
     ]
    }
   ],
   "source": [
    "# from pandas._libs import missing\n",
    "\n",
    "# for i, row in df_border.iterrows():\n",
    "#   name = row['Name'].strip()\n",
    "#   Grade_Needed = row['Grade_Needed']\n",
    "#   email = row['Email'].strip()\n",
    "#   subject = row[\"Subject\"].strip()\n",
    "#   average = row['MP1']\n",
    "#   full_email = (\"From: {0} <{1}>\\n\"\n",
    "#                   \"To:{2} <{3}>\\n\"\n",
    "#                   \"Subject: {4}\\n\\n\"\n",
    "#                   \"Hello,\\n\\nThis is an update on {3}'s status for passing the Algebra 1R course.\\\n",
    "#                   \\n\\n{3} currently needs a(n) {6} to pass the course.\\\n",
    "#                   \\n\\nThe best course of action to ensure the highest grade for your child is to make sure all homework and classwork assignments are complete. \\\n",
    "#                   \\n\\nWe also encourage students to ask to do test corrections if they do not score well on exams.\\\n",
    "#                   \\n\\nPlease reach out if you have any questions or concerns.\\n\\nSincerely,\\nMr. Levinton\\nAlgebra 1R Teacher\"\\\n",
    "#                       .format(your_name, your_email, email,name, subject,average,Grade_Needed))\n",
    "#   try:\n",
    "#       server.sendmail(your_email, [email], full_email)\n",
    "#       print('Email to {} successfully sent!\\n\\n'.format(email))\n",
    "#   except:\n",
    "#       print('Email to {} could not be sent :( because {}\\n\\n'.format(email, str(email)))\n"
   ]
  },
  {
   "cell_type": "code",
   "execution_count": null,
   "metadata": {
    "id": "5EYuR_AGuBnE"
   },
   "outputs": [],
   "source": [
    "server.close()"
   ]
  },
  {
   "cell_type": "code",
   "execution_count": null,
   "metadata": {
    "id": "W6DupoG4kYY_"
   },
   "outputs": [],
   "source": []
  }
 ],
 "metadata": {
  "colab": {
   "provenance": []
  },
  "kernelspec": {
   "display_name": "Python 3 (ipykernel)",
   "language": "python",
   "name": "python3"
  },
  "language_info": {
   "codemirror_mode": {
    "name": "ipython",
    "version": 3
   },
   "file_extension": ".py",
   "mimetype": "text/x-python",
   "name": "python",
   "nbconvert_exporter": "python",
   "pygments_lexer": "ipython3",
   "version": "3.10.9"
  }
 },
 "nbformat": 4,
 "nbformat_minor": 1
}
